{
  "nbformat": 4,
  "nbformat_minor": 0,
  "metadata": {
    "colab": {
      "provenance": []
    },
    "kernelspec": {
      "name": "python3",
      "display_name": "Python 3"
    },
    "language_info": {
      "name": "python"
    }
  },
  "cells": [
    {
      "cell_type": "code",
      "execution_count": null,
      "metadata": {
        "id": "l70M7NDhC4DB"
      },
      "outputs": [],
      "source": []
    },
    {
      "cell_type": "markdown",
      "source": [
        "q1. What is the difference between a function and a method in Python?\n",
        "\n",
        "ans- In Python, both functions and methods are blocks of reusable code designed to perform specific tasks, but their key distinction lies in their association with classes and objects.\n",
        "Function:\n",
        "A function is a standalone block of code that is defined independently and can be called by its name.\n",
        "Functions are not inherently tied to any specific object or class.\n",
        "They operate on data passed to them as arguments and typically return a result.\n",
        "Functions are used for general-purpose tasks or reusable logic that does not depend on the internal state of an object.Method:\n",
        "A method is a function that belongs to a class and is associated with an object (an instance of that class).\n",
        "Methods are defined within a class and are called on an object using dot notation (e.g., object.method()).\n",
        "The first argument of a method is conventionally self, which refers to the instance of the class on which the method is called, allowing it to access and manipulate the object's attributes and other methods.\n",
        "Methods are used to encapsulate behaviors and operations that are specific to the data and state of an object.\n",
        "\n",
        "q.2 Explain the concept of function arguments and parameters in Python.\n",
        "\n",
        "ans-In Python, the terms \"parameters\" and \"arguments\" are distinct concepts related to functions:\n",
        "Parameters: These are the variables defined within the parentheses in a function's definition. They act as placeholders or names for the values that the function expects to receive when it is called. Parameters define the signature of the function, indicating what inputs it can accept.\n",
        "\n",
        "q. 3. What are the different ways to define and call a function in Python?\n",
        "\n",
        "ans-Defining a Function in Python\n",
        "Functions in Python are defined using the def keyword, followed by the function name, parentheses () which may contain parameters, and a colon :. The code block that constitutes the function's body must be indented. An optional return statement can be used to send a value back to the caller.\n",
        "Calling a Function in Python\n",
        "To execute a defined function, it must be called. This is done by writing the function's name followed by parentheses (), which enclose any necessary arguments that correspond to the function's parameters.\n",
        "q.4-What is the purpose of the `return` statement in a Python function?\n",
        "\n",
        "ans- The return statement in a Python function serves two primary purposes:\n",
        "Exiting the Function:\n",
        "When a return statement is encountered during the execution of a function, it immediately terminates the function's execution. Control is then passed back to the point in the code where the function was called. Any code within the function after the return statement will not be executed.\n",
        "Returning a Value:\n",
        "The return statement can be used to send a value (or multiple values, or even a complex data structure) back to the caller of the function. This returned value can then be used in the calling code, for example, by assigning it to a variable, using it in an expression, or passing it as an argument to another function. If no value is specified with the return statement, or if the return statement is omitted entirely, the function implicitly returns None.\n",
        "\n",
        "q.5-What are iterators in Python and how do they differ from iterables?\n",
        "\n",
        "ans-In Python, iterators and iterables are two closely related but different concepts that are foundational to loops, particularly for loops. Here's a breakdown of each and how they differ:\n",
        "\n",
        "\n",
        "---\n",
        "\n",
        "🔁 Iterable\n",
        "\n",
        "An iterable is any Python object that can return an iterator using the built-in iter() function. These objects implement the _iter_() method.\n",
        "\n",
        "✅ Common Examples of Iterables:\n",
        "\n",
        "Lists\n",
        "\n",
        "Tuples\n",
        "\n",
        "Strings\n",
        "\n",
        "Dictionaries\n",
        "\n",
        "Sets\n",
        "\n",
        "\n",
        "✅ Key Characteristics:\n",
        "\n",
        "You can loop over them (e.g., with a for loop).\n",
        "\n",
        "They don’t remember their state (where the loop currently is).\n",
        "\n",
        "\n",
        "🔍 Example:\n",
        "\n",
        "my_list = [1, 2, 3]\n",
        "for item in my_list:\n",
        "    print(item)\n",
        "\n",
        "\n",
        "---\n",
        "\n",
        "🔄 Iterator\n",
        "\n",
        "An iterator is an object that represents a stream of data. It keeps track of its current position and produces the next value when you call next() on it. Iterators implement:\n",
        "\n",
        "_iter_() — returns the iterator itself.\n",
        "\n",
        "_next_() — returns the next value or raises StopIteration when done.\n",
        "\n",
        "\n",
        "🔍 Example:\n",
        "\n",
        "my_list = [1, 2, 3]\n",
        "iterator = iter(my_list)  # get iterator from the list\n",
        "\n",
        "print(next(iterator))  # 1\n",
        "print(next(iterator))  # 2\n",
        "print(next(iterator))  # 3\n",
        "print(next(iterator))  # Raises StopIteration\n",
        "\n",
        "\n",
        "---\n",
        "\n",
        "⚖️ Difference Between Iterable and Iterator:\n",
        "\n",
        "Feature\tIterable\tIterator\n",
        "\n",
        "Can be looped\t✅ Yes\t✅ Yes\n",
        "Needs _iter_\t✅ Yes\t✅ Yes (returns itself)\n",
        "Needs _next_\t❌ No\t✅ Yes\n",
        "Remembers state\t❌ No\t✅ Yes\n",
        "Used with for\t✅ Yes\t✅ Yes\n",
        "Get via iter()\t✅ Yes\t❌ Already an iterator\n",
        "\n",
        "\n",
        "\n",
        "---\n",
        "\n",
        "✅ Summary:\n",
        "\n",
        "Iterable: You can get an iterator from it.\n",
        "\n",
        "Iterator: You can fetch the next item from it using next().\n",
        "\n",
        "\n",
        "Let me know if you want to see how to create your own custom iterator class.\n",
        "\n",
        "q.6 Explain the concept of generators in Python and how they are defined.\n",
        "\n",
        "ans-In Python, a generator is a special type of iterator that allows you to create sequences of values on demand, rather than storing the entire sequence in memory at once. This is achieved using the yield keyword within a function, which suspends the function's execution and returns a value, allowing it to be resumed later from where it left off.\n",
        "How Generators are Defined:\n",
        "A generator function in Python is defined like a regular function, but instead of using return to send back a value, it uses yield. When a generator function is called, it doesn't execute the code immediately. Instead, it returns a generator object, which is an iterator.\n",
        "Key Differences from Regular Functions:\n",
        "yield vs. return:\n",
        "Regular functions use return to send back a single value and exit. Generator functions use yield to return a value and pause execution, maintaining their state.\n",
        "Memory Efficiency:\n",
        "Generators are memory-efficient because they produce values one at a time, only when requested, rather than storing the entire sequence in memory.\n",
        "Lazy Evaluation:\n",
        "Generators use lazy evaluation, meaning they only compute the next value when it's needed, making them ideal for working with large or infinite sequences.\n",
        "\n",
        "q.7- What are the advantages of using generators over regular functions?\n",
        "\n",
        "ans-Unlike a regular function, a generator does not return its results all at once. Instead, it yields its values one by one, each time it is called. This makes it possible to generate an infinite sequence of values, as long as there is sufficient memory to store them\n",
        "\n",
        "q.8 What is a lambda function in Python and when is it typically used?\n",
        "\n",
        "ans-A lambda function in Python is a small, anonymous function defined using the lambda keyword. It can have any number of arguments, but only one expression. Lambda functions are typically used for short, simple operations, especially when you need to pass a function as an argument to another function (like map, filter, or sorted).\n",
        "\n",
        "q.9 Explain the purpose and usage of the `map()` function in Python.\n",
        "\n",
        "ans-The map() function in Python is a built-in higher-order function that applies a given function to each item of an iterable (like a list, tuple, or set) and returns a map object, which is an iterator containing the results.\n",
        "Purpose:\n",
        "The primary purpose of map() is to perform transformations on iterables efficiently and concisely, without the need for explicit loops. It facilitates a functional programming style by applying a function across a collection of data.\n",
        "Usage:\n",
        "The syntax for map() is:\n",
        "Python\n",
        "\n",
        "map(function, iterable, ...)\n",
        "function:\n",
        "This is the function that will be applied to each item of the iterable. It can be a built-in function, a user-defined function, or a lambda function.\n",
        "iterable:\n",
        "This is the sequence or collection whose elements will be processed by the function. You can provide multiple iterables if the function is designed to accept multiple arguments.\n",
        "\n",
        "q.10-. What is the difference between `map()`, `reduce()`, and `filter()` functions in Python?\n",
        "ans- The map(), filter(), and reduce() functions in Python are higher-order functions used for processing iterables in a functional programming style. They differ in their purpose and the type of output they produce.\n",
        "map():\n",
        "Purpose: Applies a given function to each item in an iterable and returns an iterator yielding the results. It transforms each element individually.\n",
        "Output: An iterator (a map object in Python 3) containing the transformed elements.\n",
        "Example: To double each number in a list:\n",
        "Python\n",
        "\n",
        "        numbers = [1, 2, 3, 4]\n",
        "        doubled_numbers = list(map(lambda x: x * 2, numbers))\n",
        "        # doubled_numbers will be [2, 4, 6, 8]\n",
        "filter():\n",
        "Purpose: Constructs an iterator from elements of an iterable for which a function returns True. It selects elements based on a condition.\n",
        "Output: An iterator (a filter object in Python 3) containing only the elements that satisfy the condition.\n",
        "Example: To get only even numbers from a list:\n",
        "Python\n",
        "\n",
        "        numbers = [1, 2, 3, 4, 5]\n",
        "        even_numbers = list(filter(lambda x: x % 2 == 0, numbers))\n",
        "        # even_numbers will be [2, 4]\n",
        "reduce():\n",
        "Purpose: Applies a function of two arguments cumulatively to the items of an iterable, from left to right, so as to reduce the iterable to a single value. It combines elements to produce a single result.\n",
        "Note: reduce() is part of the functools module and needs to be imported.\n",
        "Output: A single, accumulated value.\n",
        "Example: To calculate the sum of all numbers in a list:\n",
        "Python\n",
        "\n",
        "        from functools import reduce\n",
        "        numbers = [1, 2, 3, 4]\n",
        "        sum_of_numbers = reduce(lambda x, y: x + y, numbers)\n",
        "        # sum_of_numbers will be 10"
      ],
      "metadata": {
        "id": "m26__4WKDGJf"
      }
    },
    {
      "cell_type": "code",
      "source": [
        "#q1. Write a Python function that takes a list of numbers as input and returns the sum of all even numbers in\n",
        "the list.\n",
        "\n",
        "ans-def sum_of_even_numbers(numbers):\n",
        "    sum_even = 0\n",
        "    for num in numbers:\n",
        "        if num % 2 == 0:\n",
        "            sum_even += num\n",
        "    return sum_even\n",
        "\n",
        ""
      ],
      "metadata": {
        "colab": {
          "base_uri": "https://localhost:8080/",
          "height": 109
        },
        "id": "DLs9_QifGkaE",
        "outputId": "257a1c70-d80c-4b0d-c983-c1339569d1b2"
      },
      "execution_count": 1,
      "outputs": [
        {
          "output_type": "error",
          "ename": "SyntaxError",
          "evalue": "invalid syntax (ipython-input-1-3581546335.py, line 2)",
          "traceback": [
            "\u001b[0;36m  File \u001b[0;32m\"/tmp/ipython-input-1-3581546335.py\"\u001b[0;36m, line \u001b[0;32m2\u001b[0m\n\u001b[0;31m    the list.\u001b[0m\n\u001b[0m        ^\u001b[0m\n\u001b[0;31mSyntaxError\u001b[0m\u001b[0;31m:\u001b[0m invalid syntax\n"
          ]
        }
      ]
    },
    {
      "cell_type": "code",
      "source": [
        "#q2. Create a Python function that accepts a string and returns the reverse of that string.\n",
        "\n",
        "ans-def reverse_string(input_string):\n",
        "    return input_string[::-1]"
      ],
      "metadata": {
        "id": "XlqAFATUHGbJ"
      },
      "execution_count": null,
      "outputs": []
    },
    {
      "cell_type": "code",
      "source": [
        "#q3.Implement a Python function that takes a list of integers and returns a new list containing the squares of\n",
        "each number.\n",
        "\n",
        "ans-def square_numbers(numbers):\n",
        "    squared_numbers = [num ** 2 for num in numbers]\n",
        "    return squared_numbers"
      ],
      "metadata": {
        "id": "4mrRA0EhHW_t"
      },
      "execution_count": null,
      "outputs": []
    },
    {
      "cell_type": "code",
      "source": [
        "#q4 Write a Python function that checks if a given number is prime or not from 1 to 200.\n",
        "\n",
        "ans-def is_prime(number):\n",
        "    if number <= 1:\n",
        "        return False\n",
        "    if number <= 3:\n",
        "        return True\n",
        "    if number % 2 == 0 or number % 3 == 0:\n",
        "        return False"
      ],
      "metadata": {
        "id": "-GDXIWrDHmpp"
      },
      "execution_count": null,
      "outputs": []
    },
    {
      "cell_type": "code",
      "source": [
        "#q.5 Create an iterator class in Python that generates the Fibonacci sequence up to a specified number of\n",
        "terms\n",
        "\n",
        "ans- class FibonacciIterator:\n",
        "    def _init_(self, n_terms):\n",
        "        self.n_terms = n_terms  # total number of terms to generate\n",
        "        self.count = 0          # how many terms we've generated so far\n",
        "        self.a, self.b = 0, 1   # starting values of Fibonacci\n",
        "\n",
        "    def _iter_(self):\n",
        "        return self\n",
        "\n",
        "    def _next_(self):\n",
        "        if self.count >= self.n_terms:\n",
        "            raise StopIteration\n",
        "        if self.count == 0:\n",
        "            self.count += 1\n",
        "            return 0\n",
        "        elif self.count == 1:\n",
        "            self.count += 1\n",
        "            return 1\n",
        "        else:\n",
        "            fib = self.a + self.b\n",
        "            self.a, self.b = self.b, fib\n",
        "            self.count += 1\n",
        "            return fib"
      ],
      "metadata": {
        "id": "rYFQt2zMHwxr"
      },
      "execution_count": null,
      "outputs": []
    },
    {
      "cell_type": "code",
      "source": [
        "# q.6- Write a generator function in Python that yields the powers of 2 up to a given exponent.\n",
        "\n",
        "ans-def powers_of_2(exponent):\n",
        "    for i in range(exponent + 1):\n",
        "        yield 2 ** i"
      ],
      "metadata": {
        "id": "4HYPIq3wIINg"
      },
      "execution_count": null,
      "outputs": []
    },
    {
      "cell_type": "code",
      "source": [
        "#q7.Implement a generator function that reads a file line by line and yields each line as a string\n",
        "\n",
        "ans-def read_file_line_by_line(file_path):\n",
        "    with open(file_path, 'r') as file:\n",
        "        for line in file:\n",
        "            yield line"
      ],
      "metadata": {
        "id": "OvJ5nh0vIcil"
      },
      "execution_count": null,
      "outputs": []
    },
    {
      "cell_type": "code",
      "source": [
        "#q8-. Use a lambda function in Python to sort a list of tuples based on the second element of each tuple\n",
        "\n",
        "ans-data = [(1, 5), (3, 2), (2, 8), (5, 1)]\n",
        "sorted_data = sorted(data, key=lambda x: x[1])"
      ],
      "metadata": {
        "id": "BpRJYzBPItFY"
      },
      "execution_count": null,
      "outputs": []
    },
    {
      "cell_type": "code",
      "source": [
        "#q9. Write a Python program that uses `map()` to convert a list of temperatures from Celsius to Fahrenheit.\n",
        "\n",
        "ans-def celsius_to_fahrenheit(celsius):\n",
        "    return (celsius * 9/5) + 32\n"
      ],
      "metadata": {
        "id": "0-vudHmAI49t"
      },
      "execution_count": null,
      "outputs": []
    },
    {
      "cell_type": "code",
      "source": [
        "#q10-Create a Python program that uses `filter()` to remove all the vowels from a given string.\n",
        "\n",
        "ans-def remove_bubbles(input_string):\n",
        "    return ''.join(filter(lambda char: char.lower() != 'b', input_string))\n",
        "\n",
        "# Example usage\n",
        "text = \"Bubbles are beautiful but bothersome.\"\n",
        "cleaned_text = remove_bubbles(text)\n",
        "\n",
        "print(\"Original:\", text)\n",
        "print(\"Without bubbles:\", cleaned_text)"
      ],
      "metadata": {
        "id": "pCtu2_hlJJou"
      },
      "execution_count": null,
      "outputs": []
    },
    {
      "cell_type": "code",
      "source": [
        "from typing import BinaryIO\n",
        "#q11. Imagine an accounting routine used in a book shop. It works on a list with sublists, which look like this:\n",
        "order number     book titlr and author              quantity  price/l\n",
        "\n",
        "\n",
        "order number     book title and author              4        40.95\n",
        "34587                 learning python,mark lutz          5        56.80\n",
        "98762                 head first python,paul Binary      3        32.95\n",
        "77226                 einfuhrung in python3,brend klein  3        24.99\n",
        "88112\n",
        "\n",
        "\n",
        "\n",
        "\n",
        "\n",
        "\n",
        "\n",
        "\n",
        "Write a Python program, which returns a list with 2-tuples. Each tuple consists of the order number and the\n",
        "product of the price per item and the quantity. The product should be increased by 10,- € if the value of the\n",
        "order is smaller than 100,00 €.\n",
        "\n",
        "Write a Python program using lambda and map.\n",
        "\n",
        "ands-orders = [\n",
        "    [34587, \"Learning Python, Mark Lutz\", 4, 40.95],\n",
        "    [98762, \"Head First Python, Paul Barry\", 3, 32.95],\n",
        "    [77226, \"Einführung in Python3, Bernd Klein\", 3, 24.99],\n",
        "    [88112, \"Automate the Boring Stuff, Al Sweigart\", 1, 22.50]\n",
        "]\n",
        "\n",
        "# Using lambda and map to calculate total price per order\n",
        "order_totals = list(map(\n",
        "    lambda order: (\n",
        "        order[0],\n",
        "        round(order[2] * order[3] + (10 if order[2] * order[3] < 100 else 0), 2)\n",
        "    ),\n",
        "    orders\n",
        "))\n",
        "\n",
        "print(order_totals)"
      ],
      "metadata": {
        "id": "03d4VyWLJfLS"
      },
      "execution_count": null,
      "outputs": []
    }
  ]
}